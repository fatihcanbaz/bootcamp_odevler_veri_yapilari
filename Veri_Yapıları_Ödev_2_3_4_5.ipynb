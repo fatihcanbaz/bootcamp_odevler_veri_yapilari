{
 "cells": [
  {
   "cell_type": "code",
   "execution_count": 4,
   "metadata": {},
   "outputs": [
    {
     "name": "stdout",
     "output_type": "stream",
     "text": [
      "[['Ocak', 31], ['Şubat', 28], ['Mart', 31], ['Nisan', 30], ['Mayıs', 31], ['Haziran', 30], ['Temmuz', 31], ['Ağustos', 31], ['Eylül', 30], ['Ekim', 31], ['Kasım', 30], ['Aralık', 31]]\n"
     ]
    }
   ],
   "source": [
    "ocak = (['Ocak',31])\n",
    "şubat = (['Şubat',28])\n",
    "mart = (['Mart',31])\n",
    "nisan = (['Nisan',30])\n",
    "mayıs = (['Mayıs',31])\n",
    "haziran =(['Haziran',30])\n",
    "temmuz = (['Temmuz',31])\n",
    "ağustos = (['Ağustos',31])\n",
    "eylül = (['Eylül',30])\n",
    "ekim = (['Ekim',31])\n",
    "kasım = (['Kasım',30])\n",
    "aralık = (['Aralık',31])\n",
    "\n",
    "Aylar = [ocak, şubat, mart, nisan, mayıs, haziran, temmuz, ağustos, eylül, ekim, kasım, aralık]\n",
    "\n",
    "print(Aylar)"
   ]
  },
  {
   "cell_type": "code",
   "execution_count": 6,
   "metadata": {},
   "outputs": [
    {
     "name": "stdout",
     "output_type": "stream",
     "text": [
      "[[['Ocak', 31], ['Şubat', 28], ['Mart', 31], ['Nisan', 30], ['Mayıs', 31], ['Haziran', 30]], [['Temmuz', 31], ['Ağustos', 31], ['Eylül', 30], ['Ekim', 31], ['Kasım', 30], ['Aralık', 31]]]\n",
      "\n",
      "[[['Ocak', 31], ['Şubat', 28], ['Mart', 31], ['Nisan', 30], ['Mayıs', 31], ['Haziran', 30]], [['Temmuz', 31], ['Ağustos', 31], ['Eylül', 30], ['Ekim', 31], ['Kasım', 30], ['Aralık', 31]]]\n"
     ]
    }
   ],
   "source": [
    "aylar=[ [Aylar[0], Aylar[1], Aylar[2], Aylar[3], Aylar[4], Aylar[5] ],\n",
    "       [Aylar[6], Aylar[7], Aylar[8], Aylar[9], Aylar[10], Aylar[11],]]\n",
    "\n",
    "a1 = [Aylar[0], Aylar[1], Aylar[2], Aylar[3], Aylar[4], Aylar[5] ]\n",
    "a2 = [Aylar[6], Aylar[7], Aylar[8], Aylar[9], Aylar[10], Aylar[11],]\n",
    "\n",
    "aylar1 = [a1,a2]\n",
    "\n",
    "print(aylar, aylar1, sep ='\\n\\n')\n",
    "\n"
   ]
  },
  {
   "cell_type": "code",
   "execution_count": 38,
   "metadata": {},
   "outputs": [
    {
     "name": "stdout",
     "output_type": "stream",
     "text": [
      "[[{'Eylül', 30}, {'Ekim', 31}, {'Kasım', 30}], [{'Aralık', 31}, {'Ocak', 31}, {28, 'Şubat'}], [{'Mart', 31}, {'Nisan', 30}, {'Mayıs', 31}], [{'Haziran', 30}, {'Temmuz', 31}, {'Ağustos', 31}]]\n"
     ]
    }
   ],
   "source": [
    "Sonbahar = [eylül, ekim, kasım]\n",
    "Kış = [aralık, ocak, şubat]\n",
    "İlkbahar = [mart, nisan, mayıs]\n",
    "Yaz = [haziran, temmuz, ağustos]\n",
    "\n",
    "Mevsimler = [Sonbahar, Kış, İlkbahar, Yaz]\n",
    "\n",
    "print(Mevsimler)"
   ]
  },
  {
   "cell_type": "code",
   "execution_count": 7,
   "metadata": {},
   "outputs": [
    {
     "name": "stdout",
     "output_type": "stream",
     "text": [
      "92\n"
     ]
    }
   ],
   "source": [
    "yaz_mevsimi = haziran[1] + temmuz[1] + ağustos[1]\n",
    "\n",
    "print(yaz_mevsimi)"
   ]
  }
 ],
 "metadata": {
  "kernelspec": {
   "display_name": "Python 3",
   "language": "python",
   "name": "python3"
  },
  "language_info": {
   "codemirror_mode": {
    "name": "ipython",
    "version": 3
   },
   "file_extension": ".py",
   "mimetype": "text/x-python",
   "name": "python",
   "nbconvert_exporter": "python",
   "pygments_lexer": "ipython3",
   "version": "3.7.4"
  }
 },
 "nbformat": 4,
 "nbformat_minor": 2
}
