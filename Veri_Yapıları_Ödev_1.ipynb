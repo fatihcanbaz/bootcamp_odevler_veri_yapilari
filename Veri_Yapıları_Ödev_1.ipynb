{
 "cells": [
  {
   "cell_type": "code",
   "execution_count": 5,
   "metadata": {},
   "outputs": [
    {
     "name": "stdout",
     "output_type": "stream",
     "text": [
      "İki gün seçiniz (sayı karşılıkları olarak)\n",
      "Birinci seçim - 5\n",
      "İkincii seçim - 7\n",
      "Kalan günler : dict_values(['Pazartesi', 'Salı', 'Çarşamba', 'Perşembe', 'Cumartesi'])\n"
     ]
    }
   ],
   "source": [
    "günler = {\n",
    "    \"1\" : \"Pazartesi\",\n",
    "    \"2\" : \"Salı\",\n",
    "    \"3\" : \"Çarşamba\",\n",
    "    \"4\" : \"Perşembe\",\n",
    "    \"5\" : \"Cuma\",\n",
    "    \"6\" : \"Cumartesi\",\n",
    "    \"7\" : \"Pazar\",\n",
    "}\n",
    "print(\"İki gün seçiniz (sayı karşılıkları olarak)\")\n",
    "\n",
    "Seçiniz_1 = input(\"Birinci seçim - \")\n",
    "Seçiniz_2 = input(\"İkincii seçim - \")\n",
    "\n",
    "del günler [Seçiniz_1]\n",
    "del günler [Seçiniz_2]\n",
    "\n",
    "print(\"Kalan günler :\",günler.values())\n"
   ]
  }
 ],
 "metadata": {
  "kernelspec": {
   "display_name": "Python 3",
   "language": "python",
   "name": "python3"
  },
  "language_info": {
   "codemirror_mode": {
    "name": "ipython",
    "version": 3
   },
   "file_extension": ".py",
   "mimetype": "text/x-python",
   "name": "python",
   "nbconvert_exporter": "python",
   "pygments_lexer": "ipython3",
   "version": "3.7.4"
  }
 },
 "nbformat": 4,
 "nbformat_minor": 2
}
